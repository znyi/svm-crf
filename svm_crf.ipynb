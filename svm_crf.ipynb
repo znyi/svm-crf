{
  "nbformat": 4,
  "nbformat_minor": 0,
  "metadata": {
    "colab": {
      "name": "svm-crf.ipynb",
      "provenance": [],
      "collapsed_sections": [],
      "authorship_tag": "ABX9TyOfNNpJc+JgIZKaOHPkpul/",
      "include_colab_link": true
    },
    "kernelspec": {
      "name": "python3",
      "display_name": "Python 3"
    }
  },
  "cells": [
    {
      "cell_type": "markdown",
      "metadata": {
        "id": "view-in-github",
        "colab_type": "text"
      },
      "source": [
        "<a href=\"https://colab.research.google.com/github/znyi/svm-crf/blob/master/svm_crf.ipynb\" target=\"_parent\"><img src=\"https://colab.research.google.com/assets/colab-badge.svg\" alt=\"Open In Colab\"/></a>"
      ]
    },
    {
      "cell_type": "code",
      "metadata": {
        "id": "LhXNEpm8IjQk",
        "colab_type": "code",
        "colab": {
          "base_uri": "https://localhost:8080/",
          "height": 124
        },
        "outputId": "3dd40bf1-d602-413e-f2e7-14cd5828649c"
      },
      "source": [
        "from google.colab import drive\n",
        "drive.mount('/content/drive', force_remount=True)"
      ],
      "execution_count": 1,
      "outputs": [
        {
          "output_type": "stream",
          "text": [
            "Go to this URL in a browser: https://accounts.google.com/o/oauth2/auth?client_id=947318989803-6bn6qk8qdgf4n4g3pfee6491hc0brc4i.apps.googleusercontent.com&redirect_uri=urn%3aietf%3awg%3aoauth%3a2.0%3aoob&response_type=code&scope=email%20https%3a%2f%2fwww.googleapis.com%2fauth%2fdocs.test%20https%3a%2f%2fwww.googleapis.com%2fauth%2fdrive%20https%3a%2f%2fwww.googleapis.com%2fauth%2fdrive.photos.readonly%20https%3a%2f%2fwww.googleapis.com%2fauth%2fpeopleapi.readonly\n",
            "\n",
            "Enter your authorization code:\n",
            "··········\n",
            "Mounted at /content/drive\n"
          ],
          "name": "stdout"
        }
      ]
    },
    {
      "cell_type": "code",
      "metadata": {
        "id": "Ze3ZmzPJJcw0",
        "colab_type": "code",
        "colab": {}
      },
      "source": [
        "#!rm -rf svm-crf"
      ],
      "execution_count": 7,
      "outputs": []
    },
    {
      "cell_type": "code",
      "metadata": {
        "id": "Ny1k_ih4KouU",
        "colab_type": "code",
        "colab": {
          "base_uri": "https://localhost:8080/",
          "height": 52
        },
        "outputId": "8fc641d1-7196-4256-b730-dfda44ba13fd"
      },
      "source": [
        "%cd /content/drive/My Drive/svm-crf\n",
        "!git clone https://github.com/znyi/svm-crf.git"
      ],
      "execution_count": 6,
      "outputs": [
        {
          "output_type": "stream",
          "text": [
            "/content/drive/My Drive/svm-crf\n",
            "fatal: destination path 'svm-crf' already exists and is not an empty directory.\n"
          ],
          "name": "stdout"
        }
      ]
    },
    {
      "cell_type": "code",
      "metadata": {
        "id": "VSDaBb5gK_t7",
        "colab_type": "code",
        "colab": {
          "base_uri": "https://localhost:8080/",
          "height": 35
        },
        "outputId": "d1090df2-4f55-40c6-f8eb-fb9bebc9c106"
      },
      "source": [
        "#moved ipynb file to the cloned repo before %cd\n",
        "%cd /content/drive/My Drive/svm-crf/svm-crf"
      ],
      "execution_count": 7,
      "outputs": [
        {
          "output_type": "stream",
          "text": [
            "/content/drive/My Drive/svm-crf/svm-crf\n"
          ],
          "name": "stdout"
        }
      ]
    },
    {
      "cell_type": "code",
      "metadata": {
        "id": "2AdtC1L8kcse",
        "colab_type": "code",
        "colab": {
          "base_uri": "https://localhost:8080/",
          "height": 35
        },
        "outputId": "e7369863-6547-4b18-81a6-d2b7fe5550ed"
      },
      "source": [
        "from google.colab import drive\n",
        "drive.mount('/content/drive/', force_remount = True)"
      ],
      "execution_count": 106,
      "outputs": [
        {
          "output_type": "stream",
          "text": [
            "Mounted at /content/drive/\n"
          ],
          "name": "stdout"
        }
      ]
    },
    {
      "cell_type": "code",
      "metadata": {
        "id": "P7UVEkRBk5gO",
        "colab_type": "code",
        "colab": {
          "base_uri": "https://localhost:8080/",
          "height": 419
        },
        "outputId": "d004d1c1-b23f-42d1-a172-0bacbee01833"
      },
      "source": [
        "import numpy as np\n",
        "from sklearn.svm import SVC\n",
        "from keras.preprocessing.text import Tokenizer\n",
        "\n",
        "xdata, ydata = [], []\n",
        "with open('/content/drive/My Drive/svm-crf/svm-crf/SMSSpamCollection', 'r', encoding='utf8') as infile:\n",
        "  lines = infile.readlines()\n",
        "  for line in lines[:100]:\n",
        "    part = line.strip().split('\\t')\n",
        "    label,sentence = part[0], part[1]\n",
        "    ydata.append(label)\n",
        "    xdata.append(sentence)\n",
        "\n",
        "print(\"num of x data: \", len(xdata))\n",
        "print(\"num of y data: \", len(ydata))\n",
        "\n",
        "for i in range(10):\n",
        "  print('x['+str(i)+'] - '+xdata[i])\n",
        "  print('y['+str(i)+'] - '+ydata[i])"
      ],
      "execution_count": 107,
      "outputs": [
        {
          "output_type": "stream",
          "text": [
            "num of x data:  100\n",
            "num of y data:  100\n",
            "x[0] - Go until jurong point, crazy.. Available only in bugis n great world la e buffet... Cine there got amore wat...\n",
            "y[0] - ham\n",
            "x[1] - Ok lar... Joking wif u oni...\n",
            "y[1] - ham\n",
            "x[2] - Free entry in 2 a wkly comp to win FA Cup final tkts 21st May 2005. Text FA to 87121 to receive entry question(std txt rate)T&C's apply 08452810075over18's\n",
            "y[2] - spam\n",
            "x[3] - U dun say so early hor... U c already then say...\n",
            "y[3] - ham\n",
            "x[4] - Nah I don't think he goes to usf, he lives around here though\n",
            "y[4] - ham\n",
            "x[5] - FreeMsg Hey there darling it's been 3 week's now and no word back! I'd like some fun you up for it still? Tb ok! XxX std chgs to send, ￡1.50 to rcv\n",
            "y[5] - spam\n",
            "x[6] - Even my brother is not like to speak with me. They treat me like aids patent.\n",
            "y[6] - ham\n",
            "x[7] - As per your request 'Melle Melle (Oru Minnaminunginte Nurungu Vettam)' has been set as your callertune for all Callers. Press *9 to copy your friends Callertune\n",
            "y[7] - ham\n",
            "x[8] - WINNER!! As a valued network customer you have been selected to receivea ￡900 prize reward! To claim call 09061701461. Claim code KL341. Valid 12 hours only.\n",
            "y[8] - spam\n",
            "x[9] - Had your mobile 11 months or more? U R entitled to Update to the latest colour mobiles with camera for Free! Call The Mobile Update Co FREE on 08002986030\n",
            "y[9] - spam\n"
          ],
          "name": "stdout"
        }
      ]
    },
    {
      "cell_type": "code",
      "metadata": {
        "id": "e6iBj0lUmtbj",
        "colab_type": "code",
        "colab": {
          "base_uri": "https://localhost:8080/",
          "height": 52
        },
        "outputId": "de87fc3a-fb92-4a88-8ad5-fa066ec59166"
      },
      "source": [
        "tokenizer = Tokenizer()\n",
        "tokenizer.fit_on_texts(xdata)\n",
        "xidx,yidx = [], []\n",
        "yidxdict = {'spam':1, 'ham':0}\n",
        "xidx = tokenizer.texts_to_sequences(xdata)\n",
        "\n",
        "maxlen = 60\n",
        "for i in range(len(xidx)):\n",
        "  length = len(xidx[i])\n",
        "  if length>maxlen:\n",
        "    xidx[i] = xidx[i][:maxlen]\n",
        "  elif length<maxlen:\n",
        "    xidx[i] = xidx[i] + [0]*(maxlen-length)\n",
        "    \n",
        "for label in ydata:\n",
        "  yidx.append(yidxdict[label])\n",
        "\n",
        "numtrain = int(0.9 * len(xidx))\n",
        "\n",
        "xtrain = xidx[:numtrain]\n",
        "ytrain = yidx[:numtrain]\n",
        "xtest = xidx[numtrain:]\n",
        "ytest = yidx[numtrain:]\n",
        "\n",
        "print('size of train x:',len(xtrain))\n",
        "print('size of train y:',len(ytrain))"
      ],
      "execution_count": 108,
      "outputs": [
        {
          "output_type": "stream",
          "text": [
            "size of train x: 90\n",
            "size of train y: 90\n"
          ],
          "name": "stdout"
        }
      ]
    },
    {
      "cell_type": "code",
      "metadata": {
        "id": "EU2e32QjpC-K",
        "colab_type": "code",
        "colab": {
          "base_uri": "https://localhost:8080/",
          "height": 87
        },
        "outputId": "8b6d856a-4107-47e1-9e21-22358549a342"
      },
      "source": [
        "svm = SVC(kernel='linear')\n",
        "svm.fit(xtrain,ytrain)"
      ],
      "execution_count": 109,
      "outputs": [
        {
          "output_type": "execute_result",
          "data": {
            "text/plain": [
              "SVC(C=1.0, break_ties=False, cache_size=200, class_weight=None, coef0=0.0,\n",
              "    decision_function_shape='ovr', degree=3, gamma='scale', kernel='linear',\n",
              "    max_iter=-1, probability=False, random_state=None, shrinking=True,\n",
              "    tol=0.001, verbose=False)"
            ]
          },
          "metadata": {
            "tags": []
          },
          "execution_count": 109
        }
      ]
    },
    {
      "cell_type": "code",
      "metadata": {
        "id": "fDYS30k1tnTY",
        "colab_type": "code",
        "colab": {
          "base_uri": "https://localhost:8080/",
          "height": 748
        },
        "outputId": "cdd8e017-d916-4d9d-c6e6-ecadc38b5cc5"
      },
      "source": [
        "predict = svm.predict(xtest)\n",
        "correct = 0\n",
        "for i,p in enumerate(predict):\n",
        "  if p == ytest[i]:\n",
        "    correct += 1\n",
        "accuracy = 100 * correct / len(ytest)\n",
        "\n",
        "print('accuracy:',accuracy)\n",
        "\n",
        "tosentence = tokenizer.sequences_to_texts(xtest)\n",
        "tolabel = {1:'spam', 0:'ham'}\n",
        "\n",
        "for i in range(len(predict)):\n",
        "  print()\n",
        "  print('sentence:',tosentence[i])\n",
        "  print('correct :',tolabel[ytest[i]])\n",
        "  print('predict :',tolabel[predict[i]])"
      ],
      "execution_count": 110,
      "outputs": [
        {
          "output_type": "stream",
          "text": [
            "accuracy: 80.0\n",
            "\n",
            "sentence: yeah do don‘t stand to close tho you‘ll catch something\n",
            "correct : ham\n",
            "predict : spam\n",
            "\n",
            "sentence: sorry to be a pain is it ok if we meet another night i spent late afternoon in casualty and that means i haven't done any of y stuff42moro and that includes all my time sheets and that sorry\n",
            "correct : ham\n",
            "predict : spam\n",
            "\n",
            "sentence: smile in pleasure smile in pain smile when trouble pours like rain smile when sum1 hurts u smile becoz someone still loves to see u smiling\n",
            "correct : ham\n",
            "predict : ham\n",
            "\n",
            "sentence: please call our customer service representative on 0800 169 6031 between 10am 9pm as you have won a guaranteed ￡1000 cash or ￡5000 prize\n",
            "correct : spam\n",
            "predict : spam\n",
            "\n",
            "sentence: havent planning to buy later i check already lido only got 530 show in e afternoon u finish work already\n",
            "correct : ham\n",
            "predict : ham\n",
            "\n",
            "sentence: your free ringtone is waiting to be collected simply text the password mix to 85069 to verify get usher and britney fml po box 5249 mk17 92h 450ppw 16\n",
            "correct : spam\n",
            "predict : spam\n",
            "\n",
            "sentence: watching telugu movie wat abt u\n",
            "correct : ham\n",
            "predict : ham\n",
            "\n",
            "sentence: i see when we finish we have loads of loans to pay\n",
            "correct : ham\n",
            "predict : ham\n",
            "\n",
            "sentence: hi wk been ok on hols now yes on for a bit of a run forgot that i have hairdressers appointment at four so need to get home n shower beforehand does that cause prob for u\n",
            "correct : ham\n",
            "predict : ham\n",
            "\n",
            "sentence: i see a cup of coffee animation\n",
            "correct : ham\n",
            "predict : ham\n"
          ],
          "name": "stdout"
        }
      ]
    },
    {
      "cell_type": "code",
      "metadata": {
        "id": "-UEFcH52vawf",
        "colab_type": "code",
        "colab": {
          "base_uri": "https://localhost:8080/",
          "height": 89
        },
        "outputId": "37c169b5-d3b7-4df1-dd34-6ffdb471f17c"
      },
      "source": [
        "!pip install sklearn_crfsuite"
      ],
      "execution_count": 111,
      "outputs": [
        {
          "output_type": "stream",
          "text": [
            "shell-init: error retrieving current directory: getcwd: cannot access parent directories: Transport endpoint is not connected\n",
            "shell-init: error retrieving current directory: getcwd: cannot access parent directories: Transport endpoint is not connected\n",
            "The folder you are executing pip from can no longer be found.\n"
          ],
          "name": "stdout"
        }
      ]
    },
    {
      "cell_type": "code",
      "metadata": {
        "id": "UD3Zf9DDGSMO",
        "colab_type": "code",
        "colab": {
          "base_uri": "https://localhost:8080/",
          "height": 176
        },
        "outputId": "79cb5fa6-6b08-4406-d8cf-4ae47bc14e1d"
      },
      "source": [
        "import sklearn_crfsuite\n",
        "from sklearn_crfsuite import metrics\n",
        "filepath = '/content/drive/My Drive/svm-crf/svm-crf/spacing_data.txt'\n",
        "\n",
        "with open(filepath, 'r', encoding='utf8') as infile:\n",
        "  lines = infile.readlines()\n",
        "\n",
        "datas = []\n",
        "\n",
        "for line in lines:\n",
        "  part = line.strip().split('\\t')\n",
        "  seq = part[0].split()\n",
        "  label = part[1].split()\n",
        "  datas.append((seq, label))\n",
        "\n",
        "numtrain = int(0.9*len(datas))\n",
        "train_data = datas[:numtrain]\n",
        "test_data = datas[numtrain:]\n",
        "\n",
        "print(len(datas))\n",
        "print(len(train_data))\n",
        "print(len(test_data))\n",
        "for data in datas[:5]:\n",
        "  print(data)"
      ],
      "execution_count": 112,
      "outputs": [
        {
          "output_type": "stream",
          "text": [
            "1000\n",
            "900\n",
            "100\n",
            "(['약', '속', '장', '소', '인', '신', '라', '호', '텔', '커', '피', '숍', '에', '재', '옥', '이', '먼', '저', '와', '기', '다', '리', '고', '있', '었', '다', '.'], ['B', 'I', 'B', 'I', 'I', 'B', 'I', 'I', 'I', 'B', 'I', 'I', 'I', 'B', 'I', 'I', 'B', 'I', 'B', 'B', 'I', 'I', 'I', 'B', 'I', 'I', 'I'])\n",
            "(['\"', '야', '!', '나', '이', '든', '처', '녀', '가', '옷', '이', '라', '도', '좀', '화', '사', '한', '색', '으', '로', '입', '고', '다', '녀', '라', '.', '회', '색', '에', '다', '검', '정', '바', '바', '리', '가', '뭐', '니', '?', '\"'], ['B', 'I', 'I', 'B', 'I', 'B', 'B', 'I', 'I', 'B', 'I', 'I', 'I', 'B', 'B', 'I', 'I', 'B', 'I', 'I', 'B', 'I', 'B', 'I', 'I', 'I', 'B', 'I', 'I', 'I', 'B', 'I', 'B', 'I', 'I', 'I', 'B', 'I', 'I', 'I'])\n",
            "(['재', '옥', '은', '전', '에', '없', '이', '정', '현', '의', '옷', '차', '림', '을', '탓', '하', '였', '다', '.'], ['B', 'I', 'I', 'B', 'I', 'B', 'I', 'B', 'I', 'I', 'B', 'I', 'I', 'I', 'B', 'I', 'I', 'I', 'I'])\n",
            "(['\"', '이', '게', '어', '때', '서', '?', '갑', '자', '기', '옷', '얘', '긴', '왜', '하', '니', '?', '선', '보', '일', '일', '있', '니', '?', '\"'], ['B', 'I', 'I', 'B', 'I', 'I', 'I', 'B', 'I', 'I', 'B', 'B', 'I', 'B', 'B', 'I', 'I', 'B', 'I', 'I', 'B', 'B', 'I', 'I', 'I'])\n",
            "(['정', '현', '은', '대', '수', '롭', '지', '않', '게', '받', '아', '넘', '겼', '다', '.'], ['B', 'I', 'I', 'B', 'I', 'I', 'I', 'B', 'I', 'B', 'I', 'I', 'I', 'I', 'I'])\n"
          ],
          "name": "stdout"
        }
      ]
    },
    {
      "cell_type": "code",
      "metadata": {
        "id": "GfRawVT4I0OF",
        "colab_type": "code",
        "colab": {
          "base_uri": "https://localhost:8080/",
          "height": 107
        },
        "outputId": "1bb03621-d038-40b2-95a1-b7889ff075d3"
      },
      "source": [
        "def getfeat(seq):\n",
        "  features = []\n",
        "\n",
        "  for i in range(len(seq)):\n",
        "    feature = {'BOF':True, 'EOF':True, 'WORD':seq[i], 'ISDIGIT':seq[i].isdigit()}\n",
        "    if i == 0:\n",
        "      feature['EOF'] = False\n",
        "    elif i == len(seq)-1:\n",
        "      feature['BOF'] = False\n",
        "    if i-1>=0:\n",
        "      feature['I-1'] = seq[i-1]\n",
        "    if i-2>=0:\n",
        "      feature['I-2'] = seq[i-2]\n",
        "    if i+1<=len(seq)-1:\n",
        "      feature['I+1'] = seq[i+1]\n",
        "    if i+2<=len(seq)-1:\n",
        "      feature['I+2'] = seq[i+2]\n",
        "    features.append(feature)\n",
        "  return features\n",
        "\n",
        "train_x, train_y = [], []\n",
        "test_x, test_y = [], []\n",
        "train_size = int(0.9*len(datas))\n",
        "for seqs, labs in train_data:\n",
        "  train_x.append(getfeat(seqs))\n",
        "  train_y.append(labs)\n",
        "for seqs, labs in test_data:\n",
        "  test_x.append(getfeat(seqs))\n",
        "  test_y.append(labs)\n",
        "for i in range(1):\n",
        "  print(train_x[i])\n",
        "  print(train_y[i])\n",
        "  print(test_x[i])\n",
        "  print(test_y[i])"
      ],
      "execution_count": 78,
      "outputs": [
        {
          "output_type": "stream",
          "text": [
            "[{'BOF': True, 'EOF': False, 'WORD': '약', 'ISDIGIT': False, 'I+1': '속', 'I+2': '장'}, {'BOF': True, 'EOF': True, 'WORD': '속', 'ISDIGIT': False, 'I-1': '약', 'I+1': '장', 'I+2': '소'}, {'BOF': True, 'EOF': True, 'WORD': '장', 'ISDIGIT': False, 'I-1': '속', 'I-2': '약', 'I+1': '소', 'I+2': '인'}, {'BOF': True, 'EOF': True, 'WORD': '소', 'ISDIGIT': False, 'I-1': '장', 'I-2': '속', 'I+1': '인', 'I+2': '신'}, {'BOF': True, 'EOF': True, 'WORD': '인', 'ISDIGIT': False, 'I-1': '소', 'I-2': '장', 'I+1': '신', 'I+2': '라'}, {'BOF': True, 'EOF': True, 'WORD': '신', 'ISDIGIT': False, 'I-1': '인', 'I-2': '소', 'I+1': '라', 'I+2': '호'}, {'BOF': True, 'EOF': True, 'WORD': '라', 'ISDIGIT': False, 'I-1': '신', 'I-2': '인', 'I+1': '호', 'I+2': '텔'}, {'BOF': True, 'EOF': True, 'WORD': '호', 'ISDIGIT': False, 'I-1': '라', 'I-2': '신', 'I+1': '텔', 'I+2': '커'}, {'BOF': True, 'EOF': True, 'WORD': '텔', 'ISDIGIT': False, 'I-1': '호', 'I-2': '라', 'I+1': '커', 'I+2': '피'}, {'BOF': True, 'EOF': True, 'WORD': '커', 'ISDIGIT': False, 'I-1': '텔', 'I-2': '호', 'I+1': '피', 'I+2': '숍'}, {'BOF': True, 'EOF': True, 'WORD': '피', 'ISDIGIT': False, 'I-1': '커', 'I-2': '텔', 'I+1': '숍', 'I+2': '에'}, {'BOF': True, 'EOF': True, 'WORD': '숍', 'ISDIGIT': False, 'I-1': '피', 'I-2': '커', 'I+1': '에', 'I+2': '재'}, {'BOF': True, 'EOF': True, 'WORD': '에', 'ISDIGIT': False, 'I-1': '숍', 'I-2': '피', 'I+1': '재', 'I+2': '옥'}, {'BOF': True, 'EOF': True, 'WORD': '재', 'ISDIGIT': False, 'I-1': '에', 'I-2': '숍', 'I+1': '옥', 'I+2': '이'}, {'BOF': True, 'EOF': True, 'WORD': '옥', 'ISDIGIT': False, 'I-1': '재', 'I-2': '에', 'I+1': '이', 'I+2': '먼'}, {'BOF': True, 'EOF': True, 'WORD': '이', 'ISDIGIT': False, 'I-1': '옥', 'I-2': '재', 'I+1': '먼', 'I+2': '저'}, {'BOF': True, 'EOF': True, 'WORD': '먼', 'ISDIGIT': False, 'I-1': '이', 'I-2': '옥', 'I+1': '저', 'I+2': '와'}, {'BOF': True, 'EOF': True, 'WORD': '저', 'ISDIGIT': False, 'I-1': '먼', 'I-2': '이', 'I+1': '와', 'I+2': '기'}, {'BOF': True, 'EOF': True, 'WORD': '와', 'ISDIGIT': False, 'I-1': '저', 'I-2': '먼', 'I+1': '기', 'I+2': '다'}, {'BOF': True, 'EOF': True, 'WORD': '기', 'ISDIGIT': False, 'I-1': '와', 'I-2': '저', 'I+1': '다', 'I+2': '리'}, {'BOF': True, 'EOF': True, 'WORD': '다', 'ISDIGIT': False, 'I-1': '기', 'I-2': '와', 'I+1': '리', 'I+2': '고'}, {'BOF': True, 'EOF': True, 'WORD': '리', 'ISDIGIT': False, 'I-1': '다', 'I-2': '기', 'I+1': '고', 'I+2': '있'}, {'BOF': True, 'EOF': True, 'WORD': '고', 'ISDIGIT': False, 'I-1': '리', 'I-2': '다', 'I+1': '있', 'I+2': '었'}, {'BOF': True, 'EOF': True, 'WORD': '있', 'ISDIGIT': False, 'I-1': '고', 'I-2': '리', 'I+1': '었', 'I+2': '다'}, {'BOF': True, 'EOF': True, 'WORD': '었', 'ISDIGIT': False, 'I-1': '있', 'I-2': '고', 'I+1': '다', 'I+2': '.'}, {'BOF': True, 'EOF': True, 'WORD': '다', 'ISDIGIT': False, 'I-1': '었', 'I-2': '있', 'I+1': '.'}, {'BOF': False, 'EOF': True, 'WORD': '.', 'ISDIGIT': False, 'I-1': '다', 'I-2': '었'}]\n",
            "['B', 'I', 'B', 'I', 'I', 'B', 'I', 'I', 'I', 'B', 'I', 'I', 'I', 'B', 'I', 'I', 'B', 'I', 'B', 'B', 'I', 'I', 'I', 'B', 'I', 'I', 'I']\n",
            "[{'BOF': True, 'EOF': False, 'WORD': '1', 'ISDIGIT': True, 'I+1': '9', 'I+2': '1'}, {'BOF': True, 'EOF': True, 'WORD': '9', 'ISDIGIT': True, 'I-1': '1', 'I+1': '1', 'I+2': '4'}, {'BOF': True, 'EOF': True, 'WORD': '1', 'ISDIGIT': True, 'I-1': '9', 'I-2': '1', 'I+1': '4', 'I+2': '-'}, {'BOF': True, 'EOF': True, 'WORD': '4', 'ISDIGIT': True, 'I-1': '1', 'I-2': '9', 'I+1': '-', 'I+2': '1'}, {'BOF': True, 'EOF': True, 'WORD': '-', 'ISDIGIT': False, 'I-1': '4', 'I-2': '1', 'I+1': '1', 'I+2': '8'}, {'BOF': True, 'EOF': True, 'WORD': '1', 'ISDIGIT': True, 'I-1': '-', 'I-2': '4', 'I+1': '8', 'I+2': '년'}, {'BOF': True, 'EOF': True, 'WORD': '8', 'ISDIGIT': True, 'I-1': '1', 'I-2': '-', 'I+1': '년', 'I+2': '의'}, {'BOF': True, 'EOF': True, 'WORD': '년', 'ISDIGIT': False, 'I-1': '8', 'I-2': '1', 'I+1': '의', 'I+2': '전'}, {'BOF': True, 'EOF': True, 'WORD': '의', 'ISDIGIT': False, 'I-1': '년', 'I-2': '8', 'I+1': '전', 'I+2': '쟁'}, {'BOF': True, 'EOF': True, 'WORD': '전', 'ISDIGIT': False, 'I-1': '의', 'I-2': '년', 'I+1': '쟁', 'I+2': '은'}, {'BOF': True, 'EOF': True, 'WORD': '쟁', 'ISDIGIT': False, 'I-1': '전', 'I-2': '의', 'I+1': '은', 'I+2': '인'}, {'BOF': True, 'EOF': True, 'WORD': '은', 'ISDIGIT': False, 'I-1': '쟁', 'I-2': '전', 'I+1': '인', 'I+2': '류'}, {'BOF': True, 'EOF': True, 'WORD': '인', 'ISDIGIT': False, 'I-1': '은', 'I-2': '쟁', 'I+1': '류', 'I+2': '를'}, {'BOF': True, 'EOF': True, 'WORD': '류', 'ISDIGIT': False, 'I-1': '인', 'I-2': '은', 'I+1': '를', 'I+2': '통'}, {'BOF': True, 'EOF': True, 'WORD': '를', 'ISDIGIT': False, 'I-1': '류', 'I-2': '인', 'I+1': '통', 'I+2': '합'}, {'BOF': True, 'EOF': True, 'WORD': '통', 'ISDIGIT': False, 'I-1': '를', 'I-2': '류', 'I+1': '합', 'I+2': '시'}, {'BOF': True, 'EOF': True, 'WORD': '합', 'ISDIGIT': False, 'I-1': '통', 'I-2': '를', 'I+1': '시', 'I+2': '킨'}, {'BOF': True, 'EOF': True, 'WORD': '시', 'ISDIGIT': False, 'I-1': '합', 'I-2': '통', 'I+1': '킨', 'I+2': '최'}, {'BOF': True, 'EOF': True, 'WORD': '킨', 'ISDIGIT': False, 'I-1': '시', 'I-2': '합', 'I+1': '최', 'I+2': '초'}, {'BOF': True, 'EOF': True, 'WORD': '최', 'ISDIGIT': False, 'I-1': '킨', 'I-2': '시', 'I+1': '초', 'I+2': '의'}, {'BOF': True, 'EOF': True, 'WORD': '초', 'ISDIGIT': False, 'I-1': '최', 'I-2': '킨', 'I+1': '의', 'I+2': '공'}, {'BOF': True, 'EOF': True, 'WORD': '의', 'ISDIGIT': False, 'I-1': '초', 'I-2': '최', 'I+1': '공', 'I+2': '통'}, {'BOF': True, 'EOF': True, 'WORD': '공', 'ISDIGIT': False, 'I-1': '의', 'I-2': '초', 'I+1': '통', 'I+2': '분'}, {'BOF': True, 'EOF': True, 'WORD': '통', 'ISDIGIT': False, 'I-1': '공', 'I-2': '의', 'I+1': '분', 'I+2': '모'}, {'BOF': True, 'EOF': True, 'WORD': '분', 'ISDIGIT': False, 'I-1': '통', 'I-2': '공', 'I+1': '모', 'I+2': '였'}, {'BOF': True, 'EOF': True, 'WORD': '모', 'ISDIGIT': False, 'I-1': '분', 'I-2': '통', 'I+1': '였', 'I+2': '다'}, {'BOF': True, 'EOF': True, 'WORD': '였', 'ISDIGIT': False, 'I-1': '모', 'I-2': '분', 'I+1': '다', 'I+2': '.'}, {'BOF': True, 'EOF': True, 'WORD': '다', 'ISDIGIT': False, 'I-1': '였', 'I-2': '모', 'I+1': '.'}, {'BOF': False, 'EOF': True, 'WORD': '.', 'ISDIGIT': False, 'I-1': '다', 'I-2': '였'}]\n",
            "['B', 'I', 'I', 'I', 'I', 'B', 'I', 'I', 'I', 'B', 'I', 'I', 'B', 'I', 'I', 'B', 'I', 'I', 'I', 'B', 'I', 'I', 'B', 'I', 'I', 'I', 'I', 'I', 'I']\n"
          ],
          "name": "stdout"
        }
      ]
    },
    {
      "cell_type": "code",
      "metadata": {
        "id": "NGz1NOzOM1q9",
        "colab_type": "code",
        "colab": {
          "base_uri": "https://localhost:8080/",
          "height": 193
        },
        "outputId": "a6b05242-d4fc-4cb7-f2d5-d7917d64c28d"
      },
      "source": [
        "crf = sklearn_crfsuite.CRF(algorithm='lbfgs')\n",
        "crf.fit(train_x, train_y)"
      ],
      "execution_count": 113,
      "outputs": [
        {
          "output_type": "stream",
          "text": [
            "/usr/local/lib/python3.6/dist-packages/sklearn/base.py:197: FutureWarning: From version 0.24, get_params will raise an AttributeError if a parameter cannot be retrieved as an instance attribute. Previously it would return None.\n",
            "  FutureWarning)\n"
          ],
          "name": "stderr"
        },
        {
          "output_type": "execute_result",
          "data": {
            "text/plain": [
              "CRF(algorithm='lbfgs', all_possible_states=None, all_possible_transitions=None,\n",
              "    averaging=None, c=None, c1=None, c2=None, calibration_candidates=None,\n",
              "    calibration_eta=None, calibration_max_trials=None, calibration_rate=None,\n",
              "    calibration_samples=None, delta=None, epsilon=None, error_sensitive=None,\n",
              "    gamma=None, keep_tempfiles=None, linesearch=None, max_iterations=None,\n",
              "    max_linesearch=None, min_freq=None, model_filename=None, num_memories=None,\n",
              "    pa_type=None, period=None, trainer_cls=None, variance=None, verbose=False)"
            ]
          },
          "metadata": {
            "tags": []
          },
          "execution_count": 113
        }
      ]
    },
    {
      "cell_type": "code",
      "metadata": {
        "id": "3jJFSIfjNAIn",
        "colab_type": "code",
        "colab": {
          "base_uri": "https://localhost:8080/",
          "height": 315
        },
        "outputId": "a7840ea2-823c-4441-d06a-c1defcf5a399"
      },
      "source": [
        "def print_result(test_data, predict):\n",
        "  for i in range(len(test_data)):\n",
        "    correct_sentence, predict_sentence = '', ''\n",
        "    correct_seq, correct_lab = test_data[i]\n",
        "    predict_lab = predict[i]\n",
        "    for j in range(len(correct_seq)):\n",
        "      if j == 0:\n",
        "        correct_sentence += correct_seq[j]\n",
        "        predict_sentence += correct_seq[j]\n",
        "        continue\n",
        "      if correct_lab[j] == 'B':\n",
        "        correct_sentence += ' '\n",
        "      correct_sentence += correct_seq[j] \n",
        "      if predict_lab[j] == 'B':\n",
        "        predict_sentence += ' '\n",
        "      predict_sentence += correct_seq[j]   \n",
        "    print()    \n",
        "    print('correct sentence:',correct_sentence)\n",
        "    print('predict sentence:',predict_sentence)\n",
        "\n",
        "predict = crf.predict(test_x)\n",
        "accuracy = metrics.flat_accuracy_score(test_y,predict)*100\n",
        "print('accuracy:',accuracy)\n",
        "print_result(test_data[:5], predict[:5])"
      ],
      "execution_count": 114,
      "outputs": [
        {
          "output_type": "stream",
          "text": [
            "accuracy: 89.66043494849293\n",
            "\n",
            "correct sentence: 1914- 18년의 전쟁은 인류를 통합시킨 최초의 공통분모였다.\n",
            "predict sentence: 1914- 18년의 전쟁은 인류를 통합시킨 최초의 공통분 모였다.\n",
            "\n",
            "correct sentence: 하지만 이 전쟁은 죽음을 통해 인류를 통합시켰다.\n",
            "predict sentence: 하지만이 전쟁은 죽음을 통해 인류를 통합시켰다.\n",
            "\n",
            "correct sentence: 사라예보에서 한 세르비아인이 쏜 총 한발이 합스부르크가의 계승자를 죽였다.\n",
            "predict sentence: 사라 예보에서 한 세르 비아인이 쏜총한 발이 합스부르크가의 계승 자를 죽였다.\n",
            "\n",
            "correct sentence: 이 암살행위는 국지적인 민족주의들과 세계적인 제국주의들이 충돌하는 분쟁지역에서 저질러졌다.\n",
            "predict sentence: 이암 살행 위는 국지적인 민족주의 들과 세계적인 제국주의 들이 충돌하는 분쟁 지역에서 저질러졌다.\n",
            "\n",
            "correct sentence: 오토만제국의 점진적인 해체는 민족주의의 독기를 발산하는 동시에 오스트리아, 헝가리와 독일, 영국, 프랑스의 탐욕을 자극했다.\n",
            "predict sentence: 오토만 제국의 점진 적인 해체는 민족주의의 독기를 발산하는 동시에 오스트리아, 헝가리와 독일, 영국, 프랑스의 탐욕을 자극했다.\n"
          ],
          "name": "stdout"
        }
      ]
    },
    {
      "cell_type": "code",
      "metadata": {
        "id": "kg23mRSyaugN",
        "colab_type": "code",
        "colab": {
          "base_uri": "https://localhost:8080/",
          "height": 35
        },
        "outputId": "2eb61e87-1ba5-41ef-a114-e756eb1ad752"
      },
      "source": [
        "%cd /content/drive/My Drive/svm-crf/svm-crf"
      ],
      "execution_count": 82,
      "outputs": [
        {
          "output_type": "stream",
          "text": [
            "/content/drive/My Drive/svm-crf/svm-crf\n"
          ],
          "name": "stdout"
        }
      ]
    },
    {
      "cell_type": "code",
      "metadata": {
        "id": "m5cqKZ3ka3jo",
        "colab_type": "code",
        "colab": {
          "base_uri": "https://localhost:8080/",
          "height": 35
        },
        "outputId": "beb86049-8517-4db5-c39a-4a321a9ca7e0"
      },
      "source": [
        "!git init"
      ],
      "execution_count": 100,
      "outputs": [
        {
          "output_type": "stream",
          "text": [
            "Reinitialized existing Git repository in /content/drive/My Drive/svm-crf/svm-crf/.git/\n"
          ],
          "name": "stdout"
        }
      ]
    },
    {
      "cell_type": "code",
      "metadata": {
        "id": "rRDfopqPa-nU",
        "colab_type": "code",
        "colab": {}
      },
      "source": [
        "!git add ."
      ],
      "execution_count": 102,
      "outputs": []
    },
    {
      "cell_type": "code",
      "metadata": {
        "id": "9v3f84b8bD5c",
        "colab_type": "code",
        "colab": {
          "base_uri": "https://localhost:8080/",
          "height": 52
        },
        "outputId": "9cacdb76-9204-467b-b82c-4765dfb78fb8"
      },
      "source": [
        "!git config --global user.email xinyi2709@gmail.com\n",
        "!git config --global user.name znyi\n",
        "!git commit -m \"svm and crf\""
      ],
      "execution_count": 101,
      "outputs": [
        {
          "output_type": "stream",
          "text": [
            "[master 1105233] svm and crf\n",
            " 1 file changed, 1 insertion(+), 1 deletion(-)\n"
          ],
          "name": "stdout"
        }
      ]
    },
    {
      "cell_type": "code",
      "metadata": {
        "id": "imV6OclMbZph",
        "colab_type": "code",
        "colab": {
          "base_uri": "https://localhost:8080/",
          "height": 35
        },
        "outputId": "d60235e2-dc90-49a6-c4a3-b746416152e5"
      },
      "source": [
        "!git remote add origin https://github.com/znyi/svm-crf.git"
      ],
      "execution_count": 8,
      "outputs": [
        {
          "output_type": "stream",
          "text": [
            "fatal: remote origin already exists.\n"
          ],
          "name": "stdout"
        }
      ]
    },
    {
      "cell_type": "code",
      "metadata": {
        "id": "3cfZVUKjbvC_",
        "colab_type": "code",
        "colab": {
          "base_uri": "https://localhost:8080/",
          "height": 35
        },
        "outputId": "3808a5eb-ed87-457a-fe67-f6a1c53f7890"
      },
      "source": [
        "!git push origin master"
      ],
      "execution_count": 9,
      "outputs": [
        {
          "output_type": "stream",
          "text": [
            "fatal: could not read Username for 'https://github.com': No such device or address\n"
          ],
          "name": "stdout"
        }
      ]
    }
  ]
}